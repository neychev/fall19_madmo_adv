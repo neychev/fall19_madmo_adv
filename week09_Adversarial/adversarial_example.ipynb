{
 "cells": [
  {
   "cell_type": "markdown",
   "metadata": {},
   "source": [
    "## Building adversarial examples.\n",
    "\n",
    "__This notebook is inspired by the https://github.com/dangeng/Simple_Adversarial_Examples repo and [PyTorch tutorial on Spatial Transformer](https://pytorch.org/tutorials/intermediate/spatial_transformer_tutorial.html).__\n",
    "\n",
    "Adversarial examples are inputs to a neural network that are designed to \"trick\" the neural network. For example, [here](https://blog.openai.com/robust-adversarial-inputs/) is a cool project that an intern at OpenAI did on adversarial examples. They managed \"convince\" an image recognition neural network that a picture of a cat was a desktop computer. Adversarial examples are incredibly important when it comes to the security of neural network models and is currently a very active field of research (for example, a [paper](https://arxiv.org/pdf/1611.02770.pdf) from Berkeley's own Dawn Song)."
   ]
  },
  {
   "cell_type": "code",
   "execution_count": 1,
   "metadata": {},
   "outputs": [],
   "source": [
    "%matplotlib inline\n",
    "import pickle\n",
    "import matplotlib.pyplot as plt\n",
    "import numpy as np"
   ]
  },
  {
   "cell_type": "code",
   "execution_count": 2,
   "metadata": {},
   "outputs": [],
   "source": [
    "import torch\n",
    "from torchvision import datasets, transforms"
   ]
  },
  {
   "cell_type": "markdown",
   "metadata": {},
   "source": [
    "We are using MNIST dataset for our experiments, while the approach we discuss can be applied to almost all types of datasets."
   ]
  },
  {
   "cell_type": "code",
   "execution_count": 3,
   "metadata": {},
   "outputs": [],
   "source": [
    "train_loader = torch.utils.data.DataLoader(\n",
    "    datasets.MNIST(root='.', train=True, download=True,\n",
    "                   transform=transforms.Compose([\n",
    "                       transforms.ToTensor(),\n",
    "                       transforms.Normalize((0.1307,), (0.3081,))\n",
    "                   ])), batch_size=64, shuffle=True, num_workers=2)\n",
    "# Test dataset\n",
    "test_loader = torch.utils.data.DataLoader(\n",
    "    datasets.MNIST(root='.', train=False, transform=transforms.Compose([\n",
    "        transforms.ToTensor(),\n",
    "        transforms.Normalize((0.1307,), (0.3081,))\n",
    "    ])), batch_size=64, shuffle=True, num_workers=2)"
   ]
  },
  {
   "cell_type": "code",
   "execution_count": 4,
   "metadata": {},
   "outputs": [],
   "source": [
    "from torch import nn\n",
    "import torch.nn.functional as F\n",
    "from torch import optim\n",
    "from torch.autograd.gradcheck import zero_gradients"
   ]
  },
  {
   "cell_type": "code",
   "execution_count": 5,
   "metadata": {},
   "outputs": [],
   "source": [
    "# a special module that converts [batch, channel, w, h] to [batch, units]: tf/keras style\n",
    "class Flatten(nn.Module):\n",
    "    def forward(self, input):\n",
    "        return input.view(input.size(0), -1)"
   ]
  },
  {
   "cell_type": "markdown",
   "metadata": {},
   "source": [
    "### 1. Train the network on MNIST."
   ]
  },
  {
   "cell_type": "code",
   "execution_count": null,
   "metadata": {},
   "outputs": [],
   "source": [
    "Create network of structure\n",
    "* Conv2d 32 kernels of size 5x5\n",
    "* ReLU\n",
    "* MaxPooling with kernel 2x2\n",
    "* Conv2d 64 kernels of size 5x5\n",
    "* ReLU\n",
    "* MaxPooling with kernel 2x2\n",
    "* Conv2d 128 kernels of size 3x3\n",
    "* Flatten\n",
    "* Linear layer to the logits (no actication function)"
   ]
  },
  {
   "cell_type": "code",
   "execution_count": 6,
   "metadata": {},
   "outputs": [],
   "source": [
    "model = nn.Sequential()\n",
    "# your code here"
   ]
  },
  {
   "cell_type": "markdown",
   "metadata": {},
   "source": [
    "Let's test it"
   ]
  },
  {
   "cell_type": "code",
   "execution_count": 7,
   "metadata": {},
   "outputs": [],
   "source": [
    "(data, target) = next(iter(train_loader))\n",
    "output = model(data)"
   ]
  },
  {
   "cell_type": "code",
   "execution_count": 8,
   "metadata": {},
   "outputs": [],
   "source": [
    "optimizer = optim.Adam(model.parameters(), lr=0.001)\n",
    "loss_func = nn.CrossEntropyLoss()\n",
    "\n",
    "def train(epoch):\n",
    "    model.train()\n",
    "    for batch_idx, (data, target) in enumerate(train_loader):\n",
    "        data, target = data.to(device), target.to(device)\n",
    "\n",
    "        optimizer.zero_grad()\n",
    "        output = model(data)\n",
    "        loss = loss_func(output, target)\n",
    "        loss.backward()\n",
    "        optimizer.step()\n",
    "        if batch_idx % 500 == 0:\n",
    "            print('Train Epoch: {} [{}/{} ({:.0f}%)]\\tLoss: {:.6f}'.format(\n",
    "                epoch, batch_idx * len(data), len(train_loader.dataset),\n",
    "                100. * batch_idx / len(train_loader), loss.item()))\n",
    "#\n",
    "# A simple test procedure to measure STN the performances on MNIST.\n",
    "#\n",
    "\n",
    "\n",
    "def test():\n",
    "    with torch.no_grad():\n",
    "        model.eval()\n",
    "        test_loss = 0\n",
    "        correct = 0\n",
    "        for data, target in test_loader:\n",
    "            data, target = data.to(device), target.to(device)\n",
    "            output = model(data)\n",
    "\n",
    "            # sum up batch loss\n",
    "            test_loss += loss_func(output, target).item()\n",
    "            # get the index of the max log-probability\n",
    "            pred = output.max(1, keepdim=True)[1]\n",
    "            correct += pred.eq(target.view_as(pred)).sum().item()\n",
    "\n",
    "        test_loss /= len(test_loader.dataset)\n",
    "        print('\\nTest set: Average loss: {:.4f}, Accuracy: {}/{} ({:.0f}%)\\n'\n",
    "              .format(test_loss, correct, len(test_loader.dataset),\n",
    "                      100. * correct / len(test_loader.dataset)))"
   ]
  },
  {
   "cell_type": "code",
   "execution_count": 9,
   "metadata": {},
   "outputs": [
    {
     "name": "stdout",
     "output_type": "stream",
     "text": [
      "Train Epoch: 0 [0/60000 (0%)]\tLoss: 2.316141\n",
      "Train Epoch: 0 [32000/60000 (53%)]\tLoss: 0.147836\n",
      "Train Epoch: 1 [0/60000 (0%)]\tLoss: 0.011666\n",
      "Train Epoch: 1 [32000/60000 (53%)]\tLoss: 0.052830\n"
     ]
    }
   ],
   "source": [
    "device = torch.device('cpu')\n",
    "for epoch in range(2):\n",
    "    train(epoch)"
   ]
  },
  {
   "cell_type": "markdown",
   "metadata": {},
   "source": [
    "From now on we need our model only in eval mode."
   ]
  },
  {
   "cell_type": "code",
   "execution_count": 10,
   "metadata": {},
   "outputs": [
    {
     "data": {
      "text/plain": [
       "Sequential(\n",
       "  (conv1): Conv2d(1, 32, kernel_size=(5, 5), stride=(1, 1))\n",
       "  (a1): ReLU()\n",
       "  (p1): MaxPool2d(kernel_size=2, stride=2, padding=0, dilation=1, ceil_mode=False)\n",
       "  (conv2): Conv2d(32, 64, kernel_size=(5, 5), stride=(1, 1))\n",
       "  (a2): ReLU()\n",
       "  (p2): MaxPool2d(kernel_size=2, stride=2, padding=0, dilation=1, ceil_mode=False)\n",
       "  (conv3): Conv2d(64, 128, kernel_size=(3, 3), stride=(1, 1))\n",
       "  (a3): ReLU()\n",
       "  (f1): Flatten()\n",
       "  (l1): Linear(in_features=512, out_features=10, bias=True)\n",
       ")"
      ]
     },
     "execution_count": 10,
     "metadata": {},
     "output_type": "execute_result"
    }
   ],
   "source": [
    "model.eval()"
   ]
  },
  {
   "cell_type": "code",
   "execution_count": 101,
   "metadata": {},
   "outputs": [],
   "source": [
    "# with open('trained_MNIST_model', 'wb') as f:\n",
    "#     torch.save({'state_dict': model.state_dict()}, f)"
   ]
  },
  {
   "cell_type": "markdown",
   "metadata": {},
   "source": [
    "The next function allows us to see the network prediction along with logits it provides for each class."
   ]
  },
  {
   "cell_type": "code",
   "execution_count": 554,
   "metadata": {},
   "outputs": [],
   "source": [
    "def predict(model, example=None, loader=None):\n",
    "    if example is None:\n",
    "        if loader is not None:\n",
    "            example = next(iter(loader))[0][:1]\n",
    "    else:\n",
    "        example = transforms.ToTensor()(example)\n",
    "    print(example.dtype)\n",
    "    prediction = model(example)\n",
    "    print('Network output: \\n' + str(np.round(prediction.detach().cpu().numpy(), 2)) + '\\n')\n",
    "    print('Network prediction: ' + str(prediction.argmax().numpy()) + '\\n')\n",
    "    print('Actual image: ')\n",
    "    \n",
    "    plt.imshow(example[0].cpu().numpy().reshape((28, 28)), cmap='Greys')"
   ]
  },
  {
   "cell_type": "code",
   "execution_count": 555,
   "metadata": {},
   "outputs": [
    {
     "name": "stdout",
     "output_type": "stream",
     "text": [
      "torch.float32\n",
      "Network output: \n",
      "[[-14.38  -9.02  23.12  -8.76 -10.08 -18.62 -19.4   -2.16 -14.56  -9.79]]\n",
      "\n",
      "Network prediction: 2\n",
      "\n",
      "Actual image: \n"
     ]
    },
    {
     "data": {
      "image/png": "[encoded data removed]",
      "text/plain": [
       "<Figure size 432x288 with 1 Axes>"
      ]
     },
     "metadata": {},
     "output_type": "display_data"
    }
   ],
   "source": [
    "predict(model, loader=train_loader)"
   ]
  },
  {
   "cell_type": "markdown",
   "metadata": {},
   "source": [
    "To actually generate adversarial examples we solve a minimization problem. We do this by setting a \"goal\" label called $ \\vec y_{goal} $ (for instance, if we wanted the network to think the adversarial image is an 8, then we would choose $ \\vec y_{goal} $ to be a one-hot vector with the eighth entry being 1). Now we define a cost function:\n",
    "\n",
    "$$ C = \\frac{1}{2} \\|\\vec y_{goal} - \\hat y(\\vec x)\\|^2_2 $$\n",
    "\n",
    "where $ \\| \\cdot \\|^2_2 $ is the squared Euclidean norm and $ \\hat y $ is the network's output. It is a function of $ \\vec x $, the input image to the network, so we write $ \\hat y(\\vec x) $. Our goal is to find an $ \\vec x $ such that $ C $ is minimized. Hopefully this makes sense, because if we find an image $ \\vec x $ that minimizes $ C $ then that means the output of the network when given $ \\vec x $ is close to our desired output, $ \\vec y_{goal} $. So in full mathy language, our optimization problem is:\n",
    "\n",
    "$$ \\arg \\min_{\\vec x} C(\\vec x) $$\n",
    "\n",
    "that is, find the $ \\vec x $ that minimizes the cost $ C $.\n",
    "\n",
    "To actually do this we can do gradient descent on $ C $. Start with an initially random vector $ \\vec x $ and take steps (changing $ \\vec x $) gradually in the direction opposite of the gradient $ \\nabla_x C $. To actually get these derivatives we can perform backpropagation on the network. In contrast to training a network, where we perform gradient descent on the weights and biases, when we create adversarial examples we hold the weights and biases constant (because we don't want to change the network!), and change the inputs to our network."
   ]
  },
  {
   "cell_type": "code",
   "execution_count": 540,
   "metadata": {},
   "outputs": [],
   "source": [
    "def adversarial(model, target, steps, eta):\n",
    "    \"\"\"\n",
    "    model : network object\n",
    "        neural network instance to use\n",
    "    target: integer\n",
    "        our goal label (just an int, the function transforms it into a one-hot vector)\n",
    "    steps : integer\n",
    "        number of steps for gradient descent\n",
    "    eta : float\n",
    "        step size for gradient descent\n",
    "    \"\"\"\n",
    "    # Set the goal output\n",
    "    goal = torch.LongTensor([target])\n",
    "\n",
    "\n",
    "    # Create a random image to initialize gradient descent with\n",
    "    mean, std = 0.1307, 0.3081\n",
    "    x = torch.from_numpy(np.random.normal(mean, std, (1, 1, 28, 28)).astype(np.float32)).requires_grad_(True)\n",
    "\n",
    "    # Gradient descent on the input\n",
    "    for i in range(steps):\n",
    "        # Calculate the derivative\n",
    "\n",
    "        # Your code here \n",
    "        \n",
    "        zero_gradients(x)\n",
    "        if i % 100 == 0:\n",
    "            print('Loss:', loss.data)\n",
    "        \n",
    "    return x\n",
    "\n",
    "# Wrapper function\n",
    "def generate(model, target, steps, eta):\n",
    "    \"\"\"\n",
    "    n : integer\n",
    "        goal label (not a one hot vector)\n",
    "    \"\"\"\n",
    "    a = adversarial(model, target, steps, eta)\n",
    "    x = np.round(model(a).cpu().detach().numpy(), 2)\n",
    "    image = a.cpu().detach().numpy()\n",
    "    print('Network Output: \\n' + str(x) + '\\n')\n",
    "    \n",
    "    print('Network Prediction: ' + str(np.argmax(x)) + '\\n')\n",
    "    \n",
    "    print('Adversarial Example: ')\n",
    "    plt.imshow(image.reshape(28,28), cmap='Greys')\n",
    "    return a"
   ]
  },
  {
   "cell_type": "markdown",
   "metadata": {},
   "source": [
    "Now let's generate some adversarial examples! Use the function provided to mess around with the neural network. (For some inputs gradient descent doesn't always converge; 0 and 5 seem to work pretty well though. I suspect convergence is very highly dependent on our choice of random initial $ \\vec x $. We'll see later in the notebook if we force the adversarial example to \"look like\" a handwritten digit, convergence is much more likely. In a sense we will be adding regularization to our generation process)."
   ]
  },
  {
   "cell_type": "code",
   "execution_count": 541,
   "metadata": {},
   "outputs": [
    {
     "name": "stdout",
     "output_type": "stream",
     "text": [
      "Loss: tensor(2.8066)\n",
      "Loss: tensor(0.3075)\n",
      "Loss: tensor(0.0766)\n",
      "Loss: tensor(0.0411)\n",
      "Loss: tensor(0.0283)\n",
      "Loss: tensor(0.0215)\n",
      "Loss: tensor(0.0172)\n",
      "Loss: tensor(0.0144)\n",
      "Loss: tensor(0.0125)\n",
      "Loss: tensor(0.0110)\n",
      "Network Output: \n",
      "[[-3.29 -2.57 -1.52 -2.86 -3.82 -2.39  4.28 -4.23 -1.8  -3.68]]\n",
      "\n",
      "Network Prediction: 6\n",
      "\n",
      "Adversarial Example: \n"
     ]
    },
    {
     "data": {
      "image/png": "[encoded data removed]",
      "text/plain": [
       "<Figure size 432x288 with 1 Axes>"
      ]
     },
     "metadata": {},
     "output_type": "display_data"
    }
   ],
   "source": [
    "adv_example = generate(model, 6, 1000, 0.01)"
   ]
  },
  {
   "cell_type": "markdown",
   "metadata": {},
   "source": [
    "Sweet! We've just managed to create an image that looks utterly meaningless to a human, but the neural network thinks is a '5' with very high certainty. We can actually take this a bit further. Let's generate an image that looks like one number, but the neural network is certain is another. To do this we will modify our cost function a bit. Instead of just optimizing the input image, $ \\vec x $, to get a desired output label, we'll also optimize the input to look like a certain image, $ \\vec x_{target} $, at the same time. Our new cost function will be\n",
    "\n",
    "$$ C = \\|\\vec y_{goal} - y_{hat}(\\vec x)\\|^2_2 + \\lambda \\|\\vec x - \\vec x_{target}\\|^2_2 $$\n",
    "\n",
    "The added term tells us the distance from our $ \\vec x $ and some $ \\vec x_{target} $ (which is the image we want our adversarial example to look like). Because we want to minimize $ C $, we also want to minimize the distance between our adversarial example and this image. The $ \\lambda $ is hyperparameter that we can tune; it determines which is more important: optimizing for the desired output or optimizing for an image that looks like $ \\vec x_{target} $.\n",
    "\n",
    "If you are familiar with ridge regularization, the above cost function might look suspiciously like the ridge regression cost function. In fact, we can view this generation method as giving our model a prior, centered on our target image.\n",
    "\n",
    "Here is a function that implements optimizing the modified cost function, called `sneaky_adversarial` (because it is very sneaky). Note that the only difference between this function and `adversarial` is an additional term on the gradient descent update for the regularization term:"
   ]
  },
  {
   "cell_type": "code",
   "execution_count": 542,
   "metadata": {},
   "outputs": [],
   "source": [
    "reg_loss = nn.MSELoss()\n",
    "def sneaky_adversarial(model, target, x_target, steps, eta, lambd=0.05):\n",
    "    \"\"\"\n",
    "    model : network object\n",
    "        neural network instance to use\n",
    "    target: integer\n",
    "        our goal label (just an int, the function transforms it into a one-hot vector)\n",
    "    steps : integer\n",
    "        number of steps for gradient descent\n",
    "    eta : float\n",
    "        step size for gradient descent\n",
    "    \"\"\"\n",
    "    # Set the goal output\n",
    "    goal = torch.LongTensor([target])\n",
    "\n",
    "\n",
    "    # Create a random image to initialize gradient descent with\n",
    "#     mean, std = 0.1307, 0.3081\n",
    "#     x = torch.from_numpy(np.random.normal(mean, std, (1, 1, 28, 28)).astype(np.float32)).requires_grad_(True)\n",
    "    x = torch.zeros((1, 1, 28, 28), dtype=torch.float32) #- 0.42\n",
    "    x.requires_grad_(True)\n",
    "    target_max = x_target.data.max()\n",
    "    target_min = x_target.data.min()\n",
    "    # Gradient descent on the input\n",
    "    for i in range(steps):\n",
    "        # Calculate the derivative\n",
    "        loss = # Your code here\n",
    "        \n",
    "        # Your code here\n",
    "        \n",
    "        zero_gradients(x)\n",
    "\n",
    "        if i % 100 == 0:\n",
    "            print('Loss:', loss.data)\n",
    "        \n",
    "    return x\n",
    "\n",
    "\n",
    "def _get_example(class_num, loader):\n",
    "    batch = next(iter(loader))\n",
    "    for _i in range(len(batch[0])):\n",
    "        example = batch[0][_i:_i+1]\n",
    "        if class_num == batch[1][_i]:\n",
    "            return example\n",
    "\n",
    "        \n",
    "# Wrapper function\n",
    "def sneaky_generate(model, target, steps, eta, lambd=0.05, class_num=None, loader=None, example=None):\n",
    "    \"\"\"\n",
    "    target : integer\n",
    "        goal label (not a one hot vector)\n",
    "    \"\"\"\n",
    "    if example is not None:\n",
    "        if not isinstance(example, torch.Tensor):\n",
    "            try:\n",
    "                example = transforms.ToTensor()(example)\n",
    "            except Exception as exc:\n",
    "                print('Failed to cast example to torch.Tensor')\n",
    "                raise exc\n",
    "    else:\n",
    "        if loader is None or class_num is None:\n",
    "            raise ValueError('Either class_num and loader or example should be passsed')\n",
    "        else:\n",
    "            example = _get_example(class_num, loader)\n",
    "        \n",
    "    a = sneaky_adversarial(model, target, example, steps, eta, lambd)\n",
    "    x = np.round(F.softmax(model(a), dim=1).cpu().detach().numpy(), 2)\n",
    "    image = a.cpu().detach().numpy()\n",
    "    print('Network Predicted Probabilities: \\n' + str(x) + '\\n')\n",
    "    \n",
    "    print('Network Prediction: ' + str(np.argmax(x)) + '\\n')\n",
    "    \n",
    "    print('\\nWhat we want our adversarial example to look like: ')\n",
    "    plt.imshow(np.clip(example.cpu().detach().numpy().reshape((28,28)), image.min(), image.max()), cmap='Greys')\n",
    "    plt.colorbar()\n",
    "    plt.show()\n",
    "    \n",
    "    print('\\n')\n",
    "\n",
    "    \n",
    "    print('Adversarial Example: ')\n",
    "    plt.imshow(image.reshape(28,28), cmap='Greys')\n",
    "    plt.colorbar()\n",
    "    return a, example"
   ]
  },
  {
   "cell_type": "code",
   "execution_count": 543,
   "metadata": {},
   "outputs": [],
   "source": [
    "c = _get_example(7, test_loader)"
   ]
  },
  {
   "cell_type": "code",
   "execution_count": 544,
   "metadata": {
    "scrolled": false
   },
   "outputs": [
    {
     "name": "stdout",
     "output_type": "stream",
     "text": [
      "Loss: tensor(3.3243)\n",
      "Loss: tensor(0.6038)\n",
      "Loss: tensor(0.4367)\n",
      "Loss: tensor(0.3360)\n",
      "Loss: tensor(0.2744)\n",
      "Loss: tensor(0.2399)\n",
      "Loss: tensor(0.2162)\n",
      "Loss: tensor(0.1933)\n",
      "Loss: tensor(0.1797)\n",
      "Loss: tensor(0.1709)\n",
      "Network Predicted Probabilities: \n",
      "[[0.99 0.   0.   0.   0.   0.   0.   0.   0.   0.  ]]\n",
      "\n",
      "Network Prediction: 0\n",
      "\n",
      "\n",
      "What we want our adversarial example to look like: \n"
     ]
    },
    {
     "data": {
      "image/png": "[encoded data removed]",
      "text/plain": [
       "<Figure size 432x288 with 2 Axes>"
      ]
     },
     "metadata": {},
     "output_type": "display_data"
    },
    {
     "name": "stdout",
     "output_type": "stream",
     "text": [
      "\n",
      "\n",
      "Adversarial Example: \n"
     ]
    },
    {
     "data": {
      "image/png": "[encoded data removed]",
      "text/plain": [
       "<Figure size 432x288 with 2 Axes>"
      ]
     },
     "metadata": {},
     "output_type": "display_data"
    }
   ],
   "source": [
    "a, example = sneaky_generate(model, 0, 1000, 1., 1.5, example=c)"
   ]
  },
  {
   "cell_type": "code",
   "execution_count": 552,
   "metadata": {},
   "outputs": [
    {
     "name": "stdout",
     "output_type": "stream",
     "text": [
      "Loss: tensor(3.7718)\n",
      "Loss: tensor(0.8400)\n",
      "Loss: tensor(0.5160)\n",
      "Loss: tensor(0.3582)\n",
      "Loss: tensor(0.2859)\n",
      "Loss: tensor(0.2534)\n",
      "Loss: tensor(0.2352)\n",
      "Loss: tensor(0.2187)\n",
      "Loss: tensor(0.2056)\n",
      "Loss: tensor(0.1970)\n",
      "Network Predicted Probabilities: \n",
      "[[0.   0.   0.   0.   0.   0.   0.   0.   0.   0.99]]\n",
      "\n",
      "Network Prediction: 9\n",
      "\n",
      "\n",
      "What we want our adversarial example to look like: \n"
     ]
    },
    {
     "data": {
      "image/png": "[encoded data removed]",
      "text/plain": [
       "<Figure size 432x288 with 2 Axes>"
      ]
     },
     "metadata": {},
     "output_type": "display_data"
    },
    {
     "name": "stdout",
     "output_type": "stream",
     "text": [
      "\n",
      "\n",
      "Adversarial Example: \n"
     ]
    },
    {
     "data": {
      "image/png": "[encoded data removed]",
      "text/plain": [
       "<Figure size 432x288 with 2 Axes>"
      ]
     },
     "metadata": {},
     "output_type": "display_data"
    }
   ],
   "source": [
    "a, real = sneaky_generate(model, target=9, steps=1000, eta=1., lambd=1.5, class_num=6, loader=test_loader)"
   ]
  },
  {
   "cell_type": "markdown",
   "metadata": {},
   "source": [
    "Play around with this function to make \"sneaky\" adversarial examples! (Again, some numbers converge better than others... try 0, 2, 3, 5, 6, or 8 as a target label. 1, 4, 7, and 9 still don't work as well... no idea why... We get more numbers that converge because we've added regularization term to our cost function. Perhaps changing $ \\lambda $ will get more to converge?)"
   ]
  }
 ],
 "metadata": {
  "kernelspec": {
   "display_name": "Py3 research env",
   "language": "python",
   "name": "py3_research"
  },
  "language_info": {
   "codemirror_mode": {
    "name": "ipython",
    "version": 3
   },
   "file_extension": ".py",
   "mimetype": "text/x-python",
   "name": "python",
   "nbconvert_exporter": "python",
   "pygments_lexer": "ipython3",
   "version": "3.6.7"
  }
 },
 "nbformat": 4,
 "nbformat_minor": 2
}
