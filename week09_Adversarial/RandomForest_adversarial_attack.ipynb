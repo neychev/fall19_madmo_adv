{
 "cells": [
  {
   "cell_type": "markdown",
   "metadata": {},
   "source": [
    "### Attacking the Random Forest with adversarial examples"
   ]
  },
  {
   "cell_type": "code",
   "execution_count": 1,
   "metadata": {},
   "outputs": [],
   "source": [
    "import pandas as pd"
   ]
  },
  {
   "cell_type": "code",
   "execution_count": null,
   "metadata": {},
   "outputs": [],
   "source": [
    "# ! wget https://raw.githubusercontent.com/neychev/fall19_madmo_adv/master/week09_Adversarial/forest_dataset.csv"
   ]
  },
  {
   "cell_type": "code",
   "execution_count": 3,
   "metadata": {
    "colab": {
     "autoexec": {
      "startup": false,
      "wait_interval": 0
     }
    },
    "colab_type": "code",
    "id": "rvPrVRvK25pc"
   },
   "outputs": [],
   "source": [
    "all_data = pd.read_csv('forest_dataset.csv')"
   ]
  },
  {
   "cell_type": "code",
   "execution_count": 4,
   "metadata": {
    "colab": {
     "autoexec": {
      "startup": false,
      "wait_interval": 0
     }
    },
    "colab_type": "code",
    "id": "Deu3A-yc25pf"
   },
   "outputs": [],
   "source": [
    "delayed_data = all_data[int(0.8 * len(all_data)):]\n",
    "all_data = all_data[:int(0.8 * len(all_data))]"
   ]
  },
  {
   "cell_type": "code",
   "execution_count": 5,
   "metadata": {},
   "outputs": [],
   "source": [
    "from sklearn.preprocessing import StandardScaler"
   ]
  },
  {
   "cell_type": "code",
   "execution_count": 356,
   "metadata": {},
   "outputs": [],
   "source": [
    "scaler = StandardScaler()"
   ]
  },
  {
   "cell_type": "code",
   "execution_count": 357,
   "metadata": {
    "colab": {
     "autoexec": {
      "startup": false,
      "wait_interval": 0
     }
    },
    "colab_type": "code",
    "id": "f_YIUOuV25ph"
   },
   "outputs": [
    {
     "name": "stderr",
     "output_type": "stream",
     "text": [
      "/Users/nexes/miniconda3/envs/py3_research/lib/python3.6/site-packages/sklearn/utils/validation.py:595: DataConversionWarning: Data with input dtype int64 was converted to float64 by StandardScaler.\n",
      "  warnings.warn(msg, DataConversionWarning)\n",
      "/Users/nexes/miniconda3/envs/py3_research/lib/python3.6/site-packages/sklearn/utils/validation.py:595: DataConversionWarning: Data with input dtype int64 was converted to float64 by StandardScaler.\n",
      "  warnings.warn(msg, DataConversionWarning)\n",
      "/Users/nexes/miniconda3/envs/py3_research/lib/python3.6/site-packages/sklearn/utils/validation.py:595: DataConversionWarning: Data with input dtype int64 was converted to float64 by StandardScaler.\n",
      "  warnings.warn(msg, DataConversionWarning)\n"
     ]
    }
   ],
   "source": [
    "labels = all_data[all_data.columns[-1]].values - 1\n",
    "feature_matrix = scaler.fit_transform(all_data[all_data.columns[:-1]].values)\n",
    "\n",
    "delayed_labels = delayed_data[delayed_data.columns[-1]].values - 1\n",
    "delayed_feature_matrix = scaler.transform(delayed_data[delayed_data.columns[:-1]].values)"
   ]
  },
  {
   "cell_type": "code",
   "execution_count": 28,
   "metadata": {},
   "outputs": [],
   "source": [
    "from sklearn.ensemble import RandomForestClassifier\n",
    "from sklearn.metrics import accuracy_score, f1_score"
   ]
  },
  {
   "cell_type": "markdown",
   "metadata": {},
   "source": [
    "Let's fit the Random Forest model on the scaled data"
   ]
  },
  {
   "cell_type": "code",
   "execution_count": 29,
   "metadata": {},
   "outputs": [],
   "source": [
    "rf = RandomForestClassifier(250, min_samples_split=8, min_samples_leaf=4)"
   ]
  },
  {
   "cell_type": "code",
   "execution_count": 30,
   "metadata": {},
   "outputs": [
    {
     "data": {
      "text/plain": [
       "RandomForestClassifier(bootstrap=True, class_weight=None, criterion='gini',\n",
       "            max_depth=None, max_features='auto', max_leaf_nodes=None,\n",
       "            min_impurity_decrease=0.0, min_impurity_split=None,\n",
       "            min_samples_leaf=4, min_samples_split=8,\n",
       "            min_weight_fraction_leaf=0.0, n_estimators=250, n_jobs=None,\n",
       "            oob_score=False, random_state=None, verbose=0,\n",
       "            warm_start=False)"
      ]
     },
     "execution_count": 30,
     "metadata": {},
     "output_type": "execute_result"
    }
   ],
   "source": [
    "rf.fit(feature_matrix, labels)"
   ]
  },
  {
   "cell_type": "code",
   "execution_count": 31,
   "metadata": {},
   "outputs": [
    {
     "data": {
      "text/plain": [
       "0.88975"
      ]
     },
     "execution_count": 31,
     "metadata": {},
     "output_type": "execute_result"
    }
   ],
   "source": [
    "rf.score(feature_matrix, labels)"
   ]
  },
  {
   "cell_type": "markdown",
   "metadata": {},
   "source": [
    "It gets the following scores"
   ]
  },
  {
   "cell_type": "code",
   "execution_count": 32,
   "metadata": {},
   "outputs": [
    {
     "name": "stdout",
     "output_type": "stream",
     "text": [
      "\n",
      "____Train____\n",
      "Accuracy 0.88975\n",
      "f1 score 0.735215405854462\n",
      "\n",
      "____Test____\n",
      "Accuracy 0.771\n",
      "f1 score 0.5088235808348253\n"
     ]
    }
   ],
   "source": [
    "print('\\n____Train____')\n",
    "print('Accuracy', accuracy_score(rf.predict(feature_matrix), labels))\n",
    "print('f1 score', f1_score(rf.predict(feature_matrix), labels, average='macro'))\n",
    "\n",
    "print('\\n____Test____')\n",
    "print('Accuracy', accuracy_score(rf.predict(delayed_feature_matrix), delayed_labels))\n",
    "print('f1 score', f1_score(rf.predict(delayed_feature_matrix), delayed_labels, average='macro'))"
   ]
  },
  {
   "cell_type": "markdown",
   "metadata": {},
   "source": [
    "Time to get some adversarial examples. We will need those to continue:"
   ]
  },
  {
   "cell_type": "code",
   "execution_count": 193,
   "metadata": {},
   "outputs": [],
   "source": [
    "import numpy as np\n",
    "\n",
    "import torch\n",
    "from torch import nn\n",
    "import torch.nn.functional as F\n",
    "from torch.autograd.gradcheck import zero_gradients"
   ]
  },
  {
   "cell_type": "markdown",
   "metadata": {},
   "source": [
    "To simulate the random forest with __mimic__ model we will use the probabilities it predicts (actually, we can use either predicted labels or probabilities, but labels carry a bit less information)."
   ]
  },
  {
   "cell_type": "code",
   "execution_count": 194,
   "metadata": {},
   "outputs": [],
   "source": [
    "new_targets = rf.predict_proba(feature_matrix)"
   ]
  },
  {
   "cell_type": "markdown",
   "metadata": {},
   "source": [
    "Create some simple model on your own taste"
   ]
  },
  {
   "cell_type": "code",
   "execution_count": 195,
   "metadata": {},
   "outputs": [],
   "source": [
    "class MyModel(nn.Module):\n",
    "    def __init__(self):\n",
    "        super().__init__() \n",
    "        model = nn.Sequential()\n",
    "        model.add_module()\n",
    "        # Your code here\n",
    "        \n",
    "        self.model = model\n",
    "        \n",
    "    def forward(self, x):\n",
    "        return self.model(x)"
   ]
  },
  {
   "cell_type": "markdown",
   "metadata": {},
   "source": [
    "To optimize w.r.t. probabilities (not labels) we need the pure crossentropy function. Let's write it down"
   ]
  },
  {
   "cell_type": "code",
   "execution_count": 196,
   "metadata": {},
   "outputs": [],
   "source": [
    "# loss_func = torch.nn.CrossEntropyLoss()\n",
    "def categorical_cross_entropy(y_pred, y_true):\n",
    "    y_pred = F.log_softmax(y_pred, dim=1)\n",
    "    crossentropy_score = # Your code here\n",
    "    return crossentropy_score\n",
    "loss_func = categorical_cross_entropy"
   ]
  },
  {
   "cell_type": "markdown",
   "metadata": {},
   "source": [
    "The following function will help us to train the model"
   ]
  },
  {
   "cell_type": "code",
   "execution_count": 205,
   "metadata": {},
   "outputs": [],
   "source": [
    "def train_nn_on_data(model_constructor, feature_matrix, labels, n_steps=25000, train_on_distribution=False):\n",
    "    if train_on_distribution:\n",
    "        loss_func = categorical_cross_entropy\n",
    "    else:\n",
    "        loss_func = torch.nn.CrossEntropyLoss()\n",
    "    \n",
    "    model = model_constructor()\n",
    "    opt = torch.optim.Adam(model.parameters())\n",
    "    \n",
    "    history = []\n",
    "    \n",
    "    for i in range(n_steps):\n",
    "\n",
    "        # sample 256 random examples\n",
    "        ix = np.random.randint(0, len(feature_matrix), 256)\n",
    "        x_batch = torch.tensor(feature_matrix[ix], dtype=torch.float32)\n",
    "        \n",
    "        if train_on_distribution:\n",
    "            y_batch = torch.tensor(new_targets[ix], dtype=torch.float32)\n",
    "        else:\n",
    "            y_batch = torch.LongTensor(labels[ix])\n",
    "\n",
    "        # predict probabilities\n",
    "        y_predicted = model(x_batch)\n",
    "\n",
    "        # compute loss, just like before\n",
    "        loss = loss_func(y_predicted, y_batch)\n",
    "\n",
    "        # compute gradients\n",
    "        loss.backward()\n",
    "\n",
    "        # Adam step\n",
    "        opt.step()\n",
    "\n",
    "        # clear gradients\n",
    "        opt.zero_grad()\n",
    "\n",
    "        history.append(loss.data.numpy())\n",
    "\n",
    "        if i % 1000 == 0:\n",
    "            print(\"step #%i | mean loss = %.3f\" % (i, np.mean(history[-10:])))\n",
    "            if np.mean(history[-500:]) >= np.mean(history[-2500:-500]):\n",
    "                for param_group in opt.param_groups:\n",
    "                    param_group['lr'] *= 0.3\n",
    "                print('Decreaseing LR, new LR=', opt.param_groups[-1]['lr'])\n",
    "    return model, history"
   ]
  },
  {
   "cell_type": "code",
   "execution_count": 206,
   "metadata": {},
   "outputs": [
    {
     "name": "stdout",
     "output_type": "stream",
     "text": [
      "step #0 | mean loss = 1.941\n"
     ]
    },
    {
     "name": "stderr",
     "output_type": "stream",
     "text": [
      "/Users/nexes/miniconda3/envs/py3_research/lib/python3.6/site-packages/numpy/core/fromnumeric.py:3257: RuntimeWarning: Mean of empty slice.\n",
      "  out=out, **kwargs)\n",
      "/Users/nexes/miniconda3/envs/py3_research/lib/python3.6/site-packages/numpy/core/_methods.py:161: RuntimeWarning: invalid value encountered in double_scalars\n",
      "  ret = ret.dtype.type(ret / rcount)\n"
     ]
    },
    {
     "name": "stdout",
     "output_type": "stream",
     "text": [
      "step #1000 | mean loss = 0.730\n",
      "step #2000 | mean loss = 0.728\n",
      "step #3000 | mean loss = 0.709\n",
      "step #4000 | mean loss = 0.715\n",
      "step #5000 | mean loss = 0.712\n",
      "step #6000 | mean loss = 0.707\n",
      "step #7000 | mean loss = 0.710\n",
      "step #8000 | mean loss = 0.703\n",
      "step #9000 | mean loss = 0.695\n"
     ]
    }
   ],
   "source": [
    "rf_simulator, rf_simulator_history = train_nn_on_data(\n",
    "    MyModel,\n",
    "    feature_matrix,\n",
    "    new_targets,\n",
    "    n_steps=10000,\n",
    "    train_on_distribution=True\n",
    ")"
   ]
  },
  {
   "cell_type": "code",
   "execution_count": 207,
   "metadata": {},
   "outputs": [
    {
     "name": "stdout",
     "output_type": "stream",
     "text": [
      "step #0 | mean loss = 1.918\n"
     ]
    },
    {
     "name": "stderr",
     "output_type": "stream",
     "text": [
      "/Users/nexes/miniconda3/envs/py3_research/lib/python3.6/site-packages/numpy/core/fromnumeric.py:3257: RuntimeWarning: Mean of empty slice.\n",
      "  out=out, **kwargs)\n",
      "/Users/nexes/miniconda3/envs/py3_research/lib/python3.6/site-packages/numpy/core/_methods.py:161: RuntimeWarning: invalid value encountered in double_scalars\n",
      "  ret = ret.dtype.type(ret / rcount)\n"
     ]
    },
    {
     "name": "stdout",
     "output_type": "stream",
     "text": [
      "step #1000 | mean loss = 0.497\n",
      "step #2000 | mean loss = 0.410\n",
      "step #3000 | mean loss = 0.333\n",
      "step #4000 | mean loss = 0.285\n",
      "step #5000 | mean loss = 0.273\n",
      "step #6000 | mean loss = 0.237\n",
      "step #7000 | mean loss = 0.209\n",
      "step #8000 | mean loss = 0.181\n",
      "step #9000 | mean loss = 0.167\n"
     ]
    }
   ],
   "source": [
    "indepedent_model, indepedent_model_history = train_nn_on_data(\n",
    "    MyModel,\n",
    "    feature_matrix,\n",
    "    labels, n_steps=10000,\n",
    "    train_on_distribution=False\n",
    ")"
   ]
  },
  {
   "cell_type": "markdown",
   "metadata": {},
   "source": [
    "Let's see the model predictions. Following function will help us"
   ]
  },
  {
   "cell_type": "code",
   "execution_count": 208,
   "metadata": {},
   "outputs": [],
   "source": [
    "def get_model_score(model, feature_matrix, labels, delayed_feature_matrix, delayed_labels, model_name):\n",
    "    preds_train = model(torch.tensor(feature_matrix, dtype=torch.float32))\n",
    "    preds_train = preds_train.argmax(dim=1).cpu().numpy()\n",
    "    \n",
    "    preds_test = model(torch.tensor(delayed_feature_matrix, dtype=torch.float32))\n",
    "    preds_test = preds_test.argmax(dim=1).cpu().numpy()\n",
    "    \n",
    "    print('_______'+str(model_name)+'_______')\n",
    "    print('\\n____Train____')\n",
    "    print('Accuracy', accuracy_score(preds_train, labels))\n",
    "    print('f1 score', f1_score(preds_train, labels, average='macro'))\n",
    "\n",
    "    print('\\n____Test____')\n",
    "    print('Accuracy', accuracy_score(preds_test, delayed_labels))\n",
    "    print('f1 score', f1_score(preds_test, delayed_labels, average='macro'))\n"
   ]
  },
  {
   "cell_type": "code",
   "execution_count": 209,
   "metadata": {},
   "outputs": [
    {
     "name": "stdout",
     "output_type": "stream",
     "text": [
      "_______rf simulator_______\n",
      "\n",
      "____Train____\n",
      "Accuracy 0.83025\n",
      "f1 score 0.6291907663069585\n",
      "\n",
      "____Test____\n",
      "Accuracy 0.77\n",
      "f1 score 0.5174831439919538\n"
     ]
    }
   ],
   "source": [
    "get_model_score(rf_simulator, feature_matrix, labels, delayed_feature_matrix, delayed_labels, 'rf simulator')"
   ]
  },
  {
   "cell_type": "code",
   "execution_count": 210,
   "metadata": {},
   "outputs": [
    {
     "name": "stdout",
     "output_type": "stream",
     "text": [
      "_______independent model_______\n",
      "\n",
      "____Train____\n",
      "Accuracy 0.947\n",
      "f1 score 0.9484183346720437\n",
      "\n",
      "____Test____\n",
      "Accuracy 0.7705\n",
      "f1 score 0.6675925911654333\n"
     ]
    }
   ],
   "source": [
    "get_model_score(indepedent_model, feature_matrix, labels, delayed_feature_matrix, delayed_labels, 'independent model')"
   ]
  },
  {
   "cell_type": "code",
   "execution_count": 211,
   "metadata": {},
   "outputs": [
    {
     "name": "stdout",
     "output_type": "stream",
     "text": [
      "\n",
      "____Restored labels on train____\n",
      "Accuracy 0.88975\n",
      "f1 score 0.735215405854462\n"
     ]
    }
   ],
   "source": [
    "print('\\n____Restored labels on train____')\n",
    "print('Accuracy', accuracy_score(new_targets.argmax(axis=1), labels))\n",
    "print('f1 score', f1_score(new_targets.argmax(axis=1), labels, average='macro'))"
   ]
  },
  {
   "cell_type": "markdown",
   "metadata": {},
   "source": [
    "From so on we will need only to evaluate our model."
   ]
  },
  {
   "cell_type": "code",
   "execution_count": 216,
   "metadata": {},
   "outputs": [
    {
     "data": {
      "text/plain": [
       "MyModel(\n",
       "  (model): Sequential(\n",
       "    (l1): Linear(in_features=54, out_features=128, bias=True)\n",
       "    (a1): ReLU()\n",
       "    (l2): Linear(in_features=128, out_features=64, bias=True)\n",
       "    (a2): ReLU()\n",
       "    (l3): Linear(in_features=64, out_features=7, bias=True)\n",
       "  )\n",
       ")"
      ]
     },
     "execution_count": 216,
     "metadata": {},
     "output_type": "execute_result"
    }
   ],
   "source": [
    "rf_simulator.eval()"
   ]
  },
  {
   "cell_type": "code",
   "execution_count": 312,
   "metadata": {},
   "outputs": [],
   "source": [
    "reg_loss = nn.MSELoss()\n",
    "loss_func = nn.CrossEntropyLoss()\n",
    "def sneaky_adversarial(model, target, x_target, steps, eta, lambd=0.05):\n",
    "    \"\"\"\n",
    "    model : network object\n",
    "        neural network instance to use\n",
    "    target: integer\n",
    "        our goal label (just an int, the function transforms it into a one-hot vector)\n",
    "    steps : integer\n",
    "        number of steps for gradient descent\n",
    "    eta : float\n",
    "        step size for gradient descent\n",
    "    \"\"\"\n",
    "    # Set the goal output\n",
    "    goal = torch.LongTensor([target])\n",
    "\n",
    "\n",
    "    x = torch.zeros((1, 54), dtype=torch.float32) #- 0.42\n",
    "    x.requires_grad_(True)\n",
    "    # Gradient descent on the input\n",
    "    for i in range(steps):\n",
    "        # Calculate the derivative\n",
    "        \n",
    "        # Your code here\n",
    "        \n",
    "        if i % 1000 == 0:\n",
    "            print('Loss:', loss.data)\n",
    "        \n",
    "    return x\n"
   ]
  },
  {
   "cell_type": "code",
   "execution_count": 323,
   "metadata": {},
   "outputs": [],
   "source": [
    "reg_loss = nn.MSELoss()\n",
    "loss_func = nn.CrossEntropyLoss()\n",
    "def adversarial(model, target, steps, eta):\n",
    "    \"\"\"\n",
    "    model : network object\n",
    "        neural network instance to use\n",
    "    target: integer\n",
    "        our goal label (just an int, the function transforms it into a one-hot vector)\n",
    "    steps : integer\n",
    "        number of steps for gradient descent\n",
    "    eta : float\n",
    "        step size for gradient descent\n",
    "    \"\"\"\n",
    "    # Set the goal output\n",
    "    goal = torch.LongTensor([target]*50)\n",
    "\n",
    "\n",
    "    # Create a random image to initialize gradient descent with\n",
    "#     mean, std = 0.1307, 0.3081\n",
    "    x = torch.from_numpy(np.random.normal(0, 1e-1, (50, 54)).astype(np.float32)).requires_grad_(True)\n",
    "#     x = torch.zeros((50, 54), dtype=torch.float32) #- 0.42\n",
    "#     x.requires_grad_(True)\n",
    "    # Gradient descent on the input\n",
    "    for i in range(steps):\n",
    "        # Calculate the derivative\n",
    "        \n",
    "        # Your code here\n",
    "        \n",
    "        if i % 1000 == 0:\n",
    "            print('Loss:', loss.data)\n",
    "        \n",
    "    return x\n"
   ]
  },
  {
   "cell_type": "code",
   "execution_count": 333,
   "metadata": {},
   "outputs": [
    {
     "name": "stdout",
     "output_type": "stream",
     "text": [
      "Loss: tensor(1.3238)\n",
      "Loss: tensor(0.1370)\n",
      "Loss: tensor(0.8342)\n",
      "Loss: tensor(0.1434)\n",
      "Loss: tensor(2.7454)\n",
      "Loss: tensor(1.2102)\n",
      "Loss: tensor(3.8259)\n",
      "Loss: tensor(1.5600)\n",
      "Loss: tensor(2.7596)\n",
      "Loss: tensor(0.9905)\n",
      "Loss: tensor(2.9466)\n",
      "Loss: tensor(0.9473)\n",
      "Loss: tensor(2.4212)\n",
      "Loss: tensor(0.3399)\n"
     ]
    }
   ],
   "source": [
    "whole_list = []\n",
    "for target in range(7):\n",
    "    a = adversarial(rf_simulator, target, 2000, eta=0.05)\n",
    "    whole_list.append(a.detach().numpy())"
   ]
  },
  {
   "cell_type": "code",
   "execution_count": 334,
   "metadata": {},
   "outputs": [],
   "source": [
    "from sklearn.manifold import TSNE"
   ]
  },
  {
   "cell_type": "code",
   "execution_count": 341,
   "metadata": {},
   "outputs": [],
   "source": [
    "tsne = TSNE()"
   ]
  },
  {
   "cell_type": "code",
   "execution_count": 337,
   "metadata": {},
   "outputs": [],
   "source": [
    "simulations = np.concatenate(whole_list, axis=0)"
   ]
  },
  {
   "cell_type": "code",
   "execution_count": 338,
   "metadata": {},
   "outputs": [
    {
     "data": {
      "text/plain": [
       "(350, 54)"
      ]
     },
     "execution_count": 338,
     "metadata": {},
     "output_type": "execute_result"
    }
   ],
   "source": [
    "simulations.shape"
   ]
  },
  {
   "cell_type": "code",
   "execution_count": 371,
   "metadata": {},
   "outputs": [],
   "source": [
    "from matplotlib import pyplot as plt"
   ]
  },
  {
   "cell_type": "code",
   "execution_count": 378,
   "metadata": {},
   "outputs": [],
   "source": [
    "import seaborn as sns"
   ]
  },
  {
   "cell_type": "code",
   "execution_count": 380,
   "metadata": {},
   "outputs": [],
   "source": [
    "import seaborn"
   ]
  },
  {
   "cell_type": "code",
   "execution_count": 384,
   "metadata": {},
   "outputs": [],
   "source": [
    "from collections import Counter"
   ]
  },
  {
   "cell_type": "code",
   "execution_count": 433,
   "metadata": {},
   "outputs": [],
   "source": [
    "sim_labels = np.repeat(np.arange(7), 50)\n",
    "real_labels = np.repeat(np.arange(7), 40)"
   ]
  },
  {
   "cell_type": "code",
   "execution_count": 437,
   "metadata": {},
   "outputs": [],
   "source": [
    "vis_list = [[] for _ in range(7)]\n",
    "counter = [0] * 7\n",
    "for idx, x in enumerate(feature_matrix):\n",
    "    if counter[labels[idx]] < 40:\n",
    "        vis_list[labels[idx]].append(x)\n",
    "        counter[labels[idx]] += 1\n",
    "        \n",
    "    if min(counter) == 40:\n",
    "        break"
   ]
  },
  {
   "cell_type": "code",
   "execution_count": 438,
   "metadata": {},
   "outputs": [],
   "source": [
    "vis_list = [np.vstack(x) for x in vis_list]\n",
    "vis_real = np.concatenate(vis_list, axis=0)"
   ]
  },
  {
   "cell_type": "code",
   "execution_count": 441,
   "metadata": {},
   "outputs": [],
   "source": [
    "all_points = np.concatenate([simulations, vis_real], axis=0)"
   ]
  },
  {
   "cell_type": "code",
   "execution_count": 442,
   "metadata": {},
   "outputs": [],
   "source": [
    "two_dim_simulations = tsne.fit_transform(all_points)"
   ]
  },
  {
   "cell_type": "markdown",
   "metadata": {},
   "source": [
    "Here are some nice visualizations"
   ]
  },
  {
   "cell_type": "code",
   "execution_count": 445,
   "metadata": {},
   "outputs": [
    {
     "data": {
      "text/plain": [
       "<matplotlib.collections.PathCollection at 0x149661ef0>"
      ]
     },
     "execution_count": 445,
     "metadata": {},
     "output_type": "execute_result"
    },
    {
     "data": {
      "image/png": "[encoded data removed]",
      "text/plain": [
       "<Figure size 1152x720 with 1 Axes>"
      ]
     },
     "metadata": {},
     "output_type": "display_data"
    }
   ],
   "source": [
    "plt.figure(figsize=(16, 10))\n",
    "\n",
    "plt.scatter(two_dim_simulations[350:, 0], two_dim_simulations[350:, 1], c=real_labels, marker='x')\n",
    "plt.scatter(two_dim_simulations[:350, 0], two_dim_simulations[:350, 1], c=sim_labels, alpha=0.5)"
   ]
  },
  {
   "cell_type": "code",
   "execution_count": 313,
   "metadata": {},
   "outputs": [
    {
     "data": {
      "text/plain": [
       "MyModel(\n",
       "  (model): Sequential(\n",
       "    (l1): Linear(in_features=54, out_features=128, bias=True)\n",
       "    (a1): ReLU()\n",
       "    (l2): Linear(in_features=128, out_features=64, bias=True)\n",
       "    (a2): ReLU()\n",
       "    (l3): Linear(in_features=64, out_features=7, bias=True)\n",
       "  )\n",
       ")"
      ]
     },
     "execution_count": 313,
     "metadata": {},
     "output_type": "execute_result"
    }
   ],
   "source": [
    "indepedent_model.eval()\n",
    "rf_simulator.eval()"
   ]
  },
  {
   "cell_type": "code",
   "execution_count": 314,
   "metadata": {},
   "outputs": [
    {
     "data": {
      "text/plain": [
       "{0, 1, 2, 3, 4, 5, 6}"
      ]
     },
     "execution_count": 314,
     "metadata": {},
     "output_type": "execute_result"
    }
   ],
   "source": [
    "set(delayed_labels)"
   ]
  },
  {
   "cell_type": "code",
   "execution_count": 319,
   "metadata": {},
   "outputs": [],
   "source": [
    "def get_adv_probas(a, indepedent_model, rf_simulator, rf):\n",
    "    print('ind', np.round(F.softmax(indepedent_model(a), dim=1).detach().numpy(), 2))\n",
    "    print('sim', np.round(F.softmax(rf_simulator(a), dim=1).detach().numpy(), 2))\n",
    "    print('rf_', np.round(rf.predict_proba(a.detach().numpy()), 2))"
   ]
  },
  {
   "cell_type": "code",
   "execution_count": 320,
   "metadata": {
    "scrolled": false
   },
   "outputs": [
    {
     "name": "stdout",
     "output_type": "stream",
     "text": [
      "Real label: 0, rf predicted [0], \n",
      "[[0.75 0.22 0.   0.   0.   0.   0.03]]\n",
      "ind predicted 0,\n",
      "[[0.96 0.02 0.   0.   0.   0.   0.02]]\n",
      "rf sim predicted 0,\n",
      "[[0.67 0.27 0.   0.   0.   0.   0.06]]\n",
      "After ind adv: new target 2\n",
      "Loss: tensor(8.9246)\n",
      "Loss: tensor(0.0792)\n",
      "ind [[0. 0. 1. 0. 0. 0. 0.]]\n",
      "sim [[0.22 0.41 0.15 0.01 0.1  0.08 0.01]]\n",
      "rf_ [[0.13 0.8  0.02 0.   0.04 0.01 0.  ]]\n",
      "After sim adv: new target 2\n",
      "Loss: tensor(2.9632)\n",
      "Loss: tensor(0.2705)\n",
      "ind [[0. 0. 1. 0. 0. 0. 0.]]\n",
      "sim [[0.01 0.03 0.94 0.01 0.   0.01 0.  ]]\n",
      "rf_ [[0.12 0.49 0.28 0.   0.09 0.03 0.  ]]\n",
      "_______________________\n",
      "_______________________\n",
      "\n",
      "Real label: 0, rf predicted [0], \n",
      "[[0.79 0.16 0.   0.   0.   0.   0.05]]\n",
      "ind predicted 0,\n",
      "[[1. 0. 0. 0. 0. 0. 0.]]\n",
      "rf sim predicted 0,\n",
      "[[0.77 0.16 0.   0.   0.   0.   0.07]]\n",
      "After ind adv: new target 2\n",
      "Loss: tensor(8.8890)\n",
      "Loss: tensor(0.1285)\n",
      "ind [[0. 0. 1. 0. 0. 0. 0.]]\n",
      "sim [[0.16 0.37 0.2  0.04 0.04 0.17 0.02]]\n",
      "rf_ [[0.09 0.81 0.02 0.   0.07 0.01 0.  ]]\n",
      "After sim adv: new target 2\n",
      "Loss: tensor(2.9276)\n",
      "Loss: tensor(0.2755)\n",
      "ind [[0.01 0.01 0.   0.   0.98 0.   0.  ]]\n",
      "sim [[0.01 0.03 0.94 0.   0.01 0.01 0.  ]]\n",
      "rf_ [[0.15 0.67 0.11 0.01 0.04 0.02 0.01]]\n",
      "_______________________\n",
      "_______________________\n",
      "\n",
      "Real label: 5, rf predicted [2], \n",
      "[[0.   0.04 0.52 0.13 0.   0.31 0.  ]]\n",
      "ind predicted 5,\n",
      "[[0.   0.   0.06 0.   0.   0.94 0.  ]]\n",
      "rf sim predicted 2,\n",
      "[[0.   0.04 0.5  0.14 0.   0.32 0.  ]]\n",
      "After ind adv: new target 0\n",
      "Loss: tensor(3.0872)\n",
      "Loss: tensor(0.3699)\n",
      "ind [[1. 0. 0. 0. 0. 0. 0.]]\n",
      "sim [[0.01 0.15 0.23 0.12 0.01 0.48 0.  ]]\n",
      "rf_ [[0.06 0.29 0.37 0.07 0.01 0.2  0.  ]]\n",
      "After sim adv: new target 0\n",
      "Loss: tensor(3.5600)\n",
      "Loss: tensor(0.8654)\n",
      "ind [[1. 0. 0. 0. 0. 0. 0.]]\n",
      "sim [[0.97 0.02 0.   0.   0.01 0.   0.  ]]\n",
      "rf_ [[0.46 0.46 0.03 0.   0.01 0.03 0.01]]\n",
      "_______________________\n",
      "_______________________\n",
      "\n",
      "Real label: 1, rf predicted [1], \n",
      "[[0.15 0.83 0.   0.   0.01 0.01 0.  ]]\n",
      "ind predicted 1,\n",
      "[[0. 1. 0. 0. 0. 0. 0.]]\n",
      "rf sim predicted 1,\n",
      "[[0.13 0.84 0.   0.   0.02 0.01 0.  ]]\n",
      "After ind adv: new target 3\n",
      "Loss: tensor(10.0858)\n",
      "Loss: tensor(0.0936)\n",
      "ind [[0.   0.   0.   0.99 0.   0.   0.  ]]\n",
      "sim [[0.07 0.55 0.12 0.11 0.05 0.09 0.02]]\n",
      "rf_ [[0.14 0.83 0.01 0.   0.01 0.01 0.  ]]\n",
      "After sim adv: new target 3\n",
      "Loss: tensor(3.7122)\n",
      "Loss: tensor(0.2514)\n",
      "ind [[0.22 0.19 0.   0.   0.   0.59 0.  ]]\n",
      "sim [[0.   0.03 0.01 0.94 0.01 0.01 0.  ]]\n",
      "rf_ [[0.2  0.56 0.07 0.03 0.02 0.12 0.  ]]\n",
      "_______________________\n",
      "_______________________\n",
      "\n",
      "Real label: 1, rf predicted [1], \n",
      "[[0.23 0.63 0.03 0.   0.05 0.06 0.  ]]\n",
      "ind predicted 1,\n",
      "[[0.39 0.61 0.   0.   0.   0.   0.  ]]\n",
      "rf sim predicted 1,\n",
      "[[0.39 0.49 0.04 0.   0.05 0.03 0.01]]\n",
      "After ind adv: new target 3\n",
      "Loss: tensor(10.1771)\n",
      "Loss: tensor(0.1192)\n",
      "ind [[0.   0.   0.   0.99 0.   0.   0.  ]]\n",
      "sim [[0.1  0.3  0.22 0.14 0.02 0.21 0.01]]\n",
      "rf_ [[0.23 0.46 0.17 0.01 0.02 0.1  0.  ]]\n",
      "After sim adv: new target 3\n",
      "Loss: tensor(3.8034)\n",
      "Loss: tensor(0.3188)\n",
      "ind [[0.99 0.   0.   0.   0.   0.   0.  ]]\n",
      "sim [[0.01 0.03 0.01 0.93 0.01 0.01 0.  ]]\n",
      "rf_ [[0.25 0.39 0.13 0.02 0.02 0.19 0.  ]]\n",
      "_______________________\n",
      "_______________________\n",
      "\n",
      "Real label: 0, rf predicted [0], \n",
      "[[0.7  0.28 0.   0.   0.01 0.   0.01]]\n",
      "ind predicted 0,\n",
      "[[0.97 0.03 0.   0.   0.   0.   0.  ]]\n",
      "rf sim predicted 0,\n",
      "[[0.81 0.18 0.   0.   0.   0.   0.01]]\n",
      "After ind adv: new target 2\n",
      "Loss: tensor(8.8587)\n",
      "Loss: tensor(0.0977)\n",
      "ind [[0. 0. 1. 0. 0. 0. 0.]]\n",
      "sim [[0.17 0.18 0.23 0.13 0.05 0.22 0.02]]\n",
      "rf_ [[0.26 0.62 0.06 0.   0.04 0.02 0.  ]]\n",
      "After sim adv: new target 2\n",
      "Loss: tensor(2.8973)\n",
      "Loss: tensor(0.2460)\n",
      "ind [[0.98 0.01 0.01 0.   0.   0.   0.  ]]\n",
      "sim [[0.01 0.03 0.95 0.01 0.   0.01 0.  ]]\n",
      "rf_ [[0.2  0.55 0.16 0.   0.05 0.04 0.  ]]\n",
      "_______________________\n",
      "_______________________\n",
      "\n",
      "Real label: 0, rf predicted [0], \n",
      "[[0.62 0.37 0.   0.   0.   0.   0.01]]\n",
      "ind predicted 0,\n",
      "[[1. 0. 0. 0. 0. 0. 0.]]\n",
      "rf sim predicted 0,\n",
      "[[0.66 0.33 0.   0.   0.   0.   0.01]]\n",
      "After ind adv: new target 2\n",
      "Loss: tensor(8.9645)\n",
      "Loss: tensor(0.1918)\n",
      "ind [[0. 0. 1. 0. 0. 0. 0.]]\n",
      "sim [[0.1  0.31 0.2  0.08 0.03 0.27 0.01]]\n",
      "rf_ [[0.15 0.77 0.02 0.   0.04 0.02 0.  ]]\n",
      "After sim adv: new target 2\n",
      "Loss: tensor(3.0031)\n",
      "Loss: tensor(0.3054)\n",
      "ind [[0.   0.3  0.1  0.   0.   0.61 0.  ]]\n",
      "sim [[0.01 0.02 0.95 0.01 0.   0.02 0.  ]]\n",
      "rf_ [[0.12 0.34 0.34 0.01 0.03 0.17 0.  ]]\n",
      "_______________________\n",
      "_______________________\n",
      "\n",
      "Real label: 1, rf predicted [1], \n",
      "[[0.09 0.89 0.01 0.   0.01 0.   0.  ]]\n",
      "ind predicted 1,\n",
      "[[0. 1. 0. 0. 0. 0. 0.]]\n",
      "rf sim predicted 1,\n",
      "[[0.08 0.91 0.   0.   0.01 0.   0.  ]]\n",
      "After ind adv: new target 3\n",
      "Loss: tensor(10.2781)\n",
      "Loss: tensor(0.1469)\n",
      "ind [[0. 0. 0. 1. 0. 0. 0.]]\n",
      "sim [[0.12 0.51 0.16 0.07 0.05 0.09 0.  ]]\n",
      "rf_ [[0.06 0.79 0.08 0.01 0.   0.04 0.  ]]\n",
      "After sim adv: new target 3\n",
      "Loss: tensor(3.9044)\n",
      "Loss: tensor(0.4181)\n",
      "ind [[0.01 0.83 0.   0.   0.   0.16 0.  ]]\n",
      "sim [[0.   0.02 0.03 0.92 0.01 0.01 0.  ]]\n",
      "rf_ [[0.16 0.61 0.07 0.03 0.01 0.12 0.  ]]\n",
      "_______________________\n",
      "_______________________\n",
      "\n",
      "Real label: 0, rf predicted [1], \n",
      "[[0.21 0.72 0.01 0.   0.04 0.03 0.  ]]\n",
      "ind predicted 1,\n",
      "[[0. 1. 0. 0. 0. 0. 0.]]\n",
      "rf sim predicted 1,\n",
      "[[0.13 0.82 0.01 0.   0.02 0.01 0.  ]]\n",
      "After ind adv: new target 2\n",
      "Loss: tensor(8.9390)\n",
      "Loss: tensor(0.0640)\n",
      "ind [[0. 0. 1. 0. 0. 0. 0.]]\n",
      "sim [[0.17 0.46 0.09 0.01 0.11 0.15 0.01]]\n",
      "rf_ [[0.14 0.77 0.02 0.   0.04 0.03 0.  ]]\n",
      "After sim adv: new target 2\n",
      "Loss: tensor(2.9776)\n",
      "Loss: tensor(0.2713)\n",
      "ind [[0. 0. 1. 0. 0. 0. 0.]]\n",
      "sim [[0.   0.03 0.94 0.01 0.   0.02 0.  ]]\n",
      "rf_ [[0.06 0.41 0.3  0.01 0.03 0.19 0.  ]]\n",
      "_______________________\n",
      "_______________________\n",
      "\n",
      "Real label: 0, rf predicted [1], \n",
      "[[0.24 0.75 0.   0.   0.01 0.   0.  ]]\n",
      "ind predicted 1,\n",
      "[[0.46 0.54 0.   0.   0.   0.   0.  ]]\n",
      "rf sim predicted 1,\n",
      "[[0.22 0.77 0.   0.   0.01 0.   0.  ]]\n",
      "After ind adv: new target 2\n",
      "Loss: tensor(8.8641)\n",
      "Loss: tensor(0.1504)\n",
      "ind [[0.   0.   0.99 0.   0.   0.   0.  ]]\n",
      "sim [[0.1  0.51 0.09 0.07 0.06 0.12 0.04]]\n",
      "rf_ [[0.13 0.84 0.01 0.   0.01 0.   0.  ]]\n",
      "After sim adv: new target 2\n",
      "Loss: tensor(2.9027)\n",
      "Loss: tensor(0.4401)\n",
      "ind [[0.   0.   0.18 0.   0.   0.82 0.  ]]\n",
      "sim [[0.01 0.04 0.92 0.01 0.01 0.02 0.  ]]\n",
      "rf_ [[0.15 0.64 0.11 0.01 0.03 0.06 0.  ]]\n",
      "_______________________\n",
      "_______________________\n",
      "\n"
     ]
    }
   ],
   "source": [
    "for idx in np.random.randint(0, len(delayed_feature_matrix), 10):\n",
    "    x = delayed_feature_matrix[idx:idx+1]\n",
    "    real_label = delayed_labels[idx]\n",
    "    print('Real label: {}, rf predicted {}, \\n{}'.format(real_label, rf.predict(x), np.round(rf.predict_proba(x),2)))\n",
    "    x_tensor = torch.Tensor(x)\n",
    "    print('ind predicted {},\\n{}'.format(indepedent_model(x_tensor).argmax(), np.round(F.softmax(indepedent_model(x_tensor), dim=1).detach().numpy(), 2)))\n",
    "    print('rf sim predicted {},\\n{}'.format(rf_simulator(x_tensor).argmax(), np.round(F.softmax(rf_simulator(x_tensor), dim=1).detach().numpy(), 2)))\n",
    "        \n",
    "    print('After ind adv: new target', (real_label+2)%7)\n",
    "    a = sneaky_adversarial(indepedent_model, (real_label+2)%7, x_tensor, 2000, 0.05, 0.5)\n",
    "    get_adv_probas(a, indepedent_model, rf_simulator, rf)\n",
    "    \n",
    "    print('After sim adv: new target', (real_label+2)%7)\n",
    "    b = sneaky_adversarial(rf_simulator, (real_label+2)%7, x_tensor, 2000, 0.05, 0.5)\n",
    "    get_adv_probas(b, indepedent_model, rf_simulator, rf)\n",
    "\n",
    "    print('_______________________\\n_______________________\\n')"
   ]
  }
 ],
 "metadata": {
  "colab": {
   "collapsed_sections": [
    "dKCiU0wz25pj",
    "9MKHZ2JC25pv",
    "VYogShkD25qD",
    "p41xvYTU25qK"
   ],
   "default_view": {},
   "name": "Random Forest adversarial attack",
   "provenance": [],
   "version": "0.3.2",
   "views": {}
  },
  "kernelspec": {
   "display_name": "Py3 research env",
   "language": "python",
   "name": "py3_research"
  },
  "language_info": {
   "codemirror_mode": {
    "name": "ipython",
    "version": 3
   },
   "file_extension": ".py",
   "mimetype": "text/x-python",
   "name": "python",
   "nbconvert_exporter": "python",
   "pygments_lexer": "ipython3",
   "version": "3.6.7"
  }
 },
 "nbformat": 4,
 "nbformat_minor": 1
}
